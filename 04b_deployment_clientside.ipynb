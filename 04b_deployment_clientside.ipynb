{
 "cells": [
  {
   "cell_type": "markdown",
   "id": "06a0236b-3c68-4156-a4ab-d44f241284c5",
   "metadata": {},
   "source": [
    "# Deploying Your Dashboard: Client-Side Processing Options\n",
    "\n",
    "## TO DO IN THIS NOTEBOOK\n",
    "- [x] Discuss Voici as a Jupyter lite based alternative to Voila (although there are restrictions to its use tied to Jupyter lite)\n",
    "- [ ] Discuss nbdev depolyment as static pages.\n",
    "- [ ] Discuss deployment to Github Pages as a static site.\n",
    "- [ ] Discuss deployment to Sphinx (not sure this is actually possible)"
   ]
  },
  {
   "cell_type": "markdown",
   "id": "c923d722-0b2c-42ba-b3c0-2e0676ffc81f",
   "metadata": {},
   "source": [
    "We have reviewed server-side processing options for deploying your dashboard. These options have one very annoying problem, if you have many users of your Jupyter-based application, you need to have very robust hosting hardware to handle the load.\n",
    "\n",
    "Now, let's look at client-side processing options. These options have some limitations, notably most depend on Jupyter lite, which is still in beta. However, they are worth exploring."
   ]
  },
  {
   "cell_type": "markdown",
   "id": "22a5f352",
   "metadata": {},
   "source": [
    "## Voici\n",
    "\n",
    "[Voici](https://github.com/voila-dashboards/voici) is a project in heavy development that aims to provide a way to deploy Jupyter notebooks as standalone web applications.  It is built on top of [JupyterLite](https://jupyterlite.readthedocs.io/en/latest/), a smaller, browser-based version of the Jupyter notebook environment. JupyterLite (and thus Voici) uses WebAssembly to run a Python interpreter in the browser, and includes a JavaScript kernel for running JavaScript code. Both Voici and JupyterLite are still in the early stages of development so they are still quite buggy.\n",
    "\n",
    "JupyterLite can only use `no-arch` (OS-independent) Python packages from conda-forge and WebAssembly-based packages from emscripten-forge can be installed.  If you can restrict yourself to those packages, you can try to deploy your notebook as a standalone web application using Voici as follows:\n",
    "\n",
    "1. Create a project directory (in this tutorial, it is called `voici_project`) that will eventually contain:\n",
    "   -  a `webapp` directory containing data, local packages, and the Jupyter notebooks you want to deploy and\n",
    "   -  an `environment.yml` file listing the required Python packages (Example provided in the `voici_project` directory)\n",
    "2. Create the `webapp` subdirectory and place any notebooks and other files you want to deploy it.  In our case copy the `dashboard` and `data` directories as well as the `02d_dashboard_test.ipynb` notebook into `webapp`.\n",
    "3. Create an `environment.yml` file in the project directory.  That file should contain the list of required Python packages similar to the example one provided (remember, packages can only be `no-arch` (OS-independent) Python packages from conda-forge and WebAssembly-based packages from emscripten-forge)."
   ]
  },
  {
   "cell_type": "code",
   "execution_count": null,
   "id": "56f1b70c",
   "metadata": {},
   "outputs": [],
   "source": [
    "# Execute this cell to see the content of the environment.yml file that can\n",
    "# be used by \"voici build\" for this dashboard.\n",
    "%load voici_project/environment.yml"
   ]
  },
  {
   "cell_type": "markdown",
   "id": "b1681d16",
   "metadata": {},
   "source": [
    "4. Via the CLI, run `voici build --contents webapp` (assuming a \"webapp\" directory named `webapp`) to build the web application.  The build process will create a `_output` directory containing the static files for the web application."
   ]
  },
  {
   "cell_type": "code",
   "execution_count": null,
   "id": "a10b90af",
   "metadata": {},
   "outputs": [],
   "source": [
    "%%bash\n",
    "\n",
    "cd voici_project\n",
    "voici build --contents webapp"
   ]
  },
  {
   "cell_type": "markdown",
   "id": "d39a0660",
   "metadata": {},
   "source": [
    "At this point you can test and see if the web application works by running a local web server pointed at the `_output` directory and then opening a new browser tab pointed at the local server [(**http://localhost:8000/**)](http://localhost:8000/).  If it works, you can deploy the `_output` directory to a web server. If you execute the following cell, you will need to \"Interrupt\" the kernel to continue with the rest of the notebook."
   ]
  },
  {
   "cell_type": "code",
   "execution_count": null,
   "id": "e3d8d17d",
   "metadata": {},
   "outputs": [],
   "source": [
    "%%bash\n",
    "\n",
    "python -m http.server 8000 --directory voici_project/_output"
   ]
  },
  {
   "cell_type": "markdown",
   "id": "9beef60b",
   "metadata": {},
   "source": [
    "**Annoying Voici Build Problem**: There is currently a problem in that during the build process if `conda` is used to install the packages. A bug was recently introduced in the build-process for WebAssembly packages at the `emscripten-force` repo that causes the build to fail with an error that \"'emscripten' is not a valid Platform\".\n",
    "- [This is a known issue](https://github.com/mamba-org/mamba/issues/3291) and is [being worked on](https://github.com/conda/conda/pull/13962).  \n",
    "- If this happens to you, you may will likely need to perform a `conda clean --all` to clear the messed up package metadata that you downloaded. Otherwise any future attempt to `conda install` will fail with a similar error!\n",
    "- The workaround is to install `micromamba` (which is why we include it in the `complexapps-2024` environment) as it doesn't trigger the bug and is automatically selected by `voici build` if installed.\n",
    "  \n",
    "**Other Bugs**: There are other bugs we have noticed, for example, the voici-deployed web application does not seem to be able to update the plot on the dashboard."
   ]
  },
  {
   "cell_type": "markdown",
   "id": "89b3df3d-e2c4-4b8d-91bc-64d96420b6bd",
   "metadata": {},
   "source": [
    "# Congratulations!\n",
    "\n",
    "That concludes this tutorial section. Great job everyone."
   ]
  },
  {
   "cell_type": "code",
   "execution_count": null,
   "id": "6ff03b61-611c-4bcf-9925-e0bd469ea081",
   "metadata": {},
   "outputs": [],
   "source": []
  }
 ],
 "metadata": {
  "kernelspec": {
   "display_name": "python3",
   "language": "python",
   "name": "python3"
  },
  "language_info": {
   "codemirror_mode": {
    "name": "ipython",
    "version": 3
   },
   "file_extension": ".py",
   "mimetype": "text/x-python",
   "name": "python",
   "nbconvert_exporter": "python",
   "pygments_lexer": "ipython3",
   "version": "3.11.9"
  }
 },
 "nbformat": 4,
 "nbformat_minor": 5
}
