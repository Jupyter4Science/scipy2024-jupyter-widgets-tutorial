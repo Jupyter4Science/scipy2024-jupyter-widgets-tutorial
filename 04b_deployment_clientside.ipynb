{
 "cells": [
  {
   "cell_type": "markdown",
   "id": "06a0236b-3c68-4156-a4ab-d44f241284c5",
   "metadata": {},
   "source": [
    "# Deploying Your Dashboard: Client-Side Processing Options\n",
    "\n",
    "## TO DO IN THIS NOTEBOOK\n",
    "- [x] Discuss Voici as a Jupyter lite based alternative to Voila (although there are restrictions to its use tied to Jupyter lite)\n",
    "- [ ] Discuss nbdev depolyment as static pages.\n",
    "- [ ] Discuss deployment to Github Pages as a static site.\n",
    "- [ ] Discuss deployment to Sphinx (not sure this is actually possible)"
   ]
  },
  {
   "cell_type": "markdown",
   "id": "c923d722-0b2c-42ba-b3c0-2e0676ffc81f",
   "metadata": {},
   "source": [
    "We have reviewed server-side processing options for deploying your dashboard. These options have one very annoying problem, if you have many users of your Jupyter-based application, you need to have very robust hosting hardware to handle the load.\n",
    "\n",
    "Now, let's look at client-side processing options. These options have some limitations, notably most depend on Jupyter lite, which is still in beta. However, they are worth exploring."
   ]
  },
  {
   "cell_type": "markdown",
   "id": "22a5f352",
   "metadata": {},
   "source": [
    "## Voici\n",
    "\n",
    "[Voici](https://github.com/voila-dashboards/voici) is a project that aims to provide a way to deploy Jupyter notebooks as standalone web applications.  It is built on top of [JupyterLite](https://jupyterlite.readthedocs.io/en/latest/), a smaller, browser-based version of the Jupyter notebook environment. JupyterLite (and thus Voici) uses WebAssembly to run a Python interpreter in the browser, and includes a JavaScript kernel for running JavaScript code. Both Voici and JupyterLite are still in the early stages of development, but is aimed at allowing client-side processing of Jupyter notebooks without requiring the installation of a Jupyter server.\n",
    "\n",
    "Assuming all the dependencies of your notebook are available in the JupyterLite environment, you can try to deploy your notebook as a standalone web application using Voici as follows:\n",
    "\n",
    "1. Create a project directory (in this tutorial, it is called `voici_project`) that will eventually contain:\n",
    "   -  a \"webapp\" directory of Jupyter notebooks you want to deploy and\n",
    "   -  an `environment.yml` file listing the required Python packages (Example provided in the `voici_project` directory)"
   ]
  },
  {
   "cell_type": "code",
   "execution_count": null,
   "id": "56f1b70c",
   "metadata": {},
   "outputs": [],
   "source": [
    "# Execute this cell to see the content of the environment.yml file that can\n",
    "# be used by \"voice build\" for this dashboard.\n",
    "%load voici_project/environment.yml"
   ]
  },
  {
   "cell_type": "markdown",
   "id": "b1681d16",
   "metadata": {},
   "source": [
    "2. In that project directory:\n",
    "   - create an `environment.yml` file in the directory containing the list of required Python packages.\n",
    "   - Place any notebooks and other files you want to deploy in the \"webapp\" directory.\n",
    "   - via the CLI, run `voici build webapp` (assuming a \"webapp\" directory named `webapp`) to build the web application.  The build process will create a `_output` directory containing the static files for the web application.\n",
    "\n",
    "The challenge is during the build process, Voici will try to install WebAssembly versions of the Python packages that have C or rust code from the `emscripten-force` repo. If a package is not available in the WebAssembly format and uses any compiled C or rust code, the build will fail.\n",
    "\n",
    "**Annoying Voici Build Problem**: There is currently a problem in that during the build process `conda` is used to install the packages, and a bug was introduced in the build-process for WebAssembly packages at the `emscripten-force` repo that causes the build to fail with an error that \"'emscripten' is not a valid Platform\". \n",
    "- [This is a known issue](https://github.com/mamba-org/mamba/issues/3291) and is [being worked on](https://github.com/conda/conda/pull/13962).  \n",
    "- If this happens to you, you may will likely need to perform a `conda clean --all` to clear the messed up package metadata that you downloaded. Otherwise any future attempt to `conda install` will fail with a similar error!\n",
    "- The workaround is to install `micromamba` (which is why we include it in the `complexapps-2024` environment) as it doesn't trigger the bug and is automatically selected by `voici build` if installed."
   ]
  },
  {
   "cell_type": "markdown",
   "id": "89b3df3d-e2c4-4b8d-91bc-64d96420b6bd",
   "metadata": {},
   "source": [
    "# Congratulations!\n",
    "\n",
    "That concludes this tutorial section. Great job everyone."
   ]
  },
  {
   "cell_type": "code",
   "execution_count": null,
   "id": "6ff03b61-611c-4bcf-9925-e0bd469ea081",
   "metadata": {},
   "outputs": [],
   "source": []
  }
 ],
 "metadata": {
  "kernelspec": {
   "display_name": "python3",
   "language": "python",
   "name": "python3"
  },
  "language_info": {
   "codemirror_mode": {
    "name": "ipython",
    "version": 3
   },
   "file_extension": ".py",
   "mimetype": "text/x-python",
   "name": "python",
   "nbconvert_exporter": "python",
   "pygments_lexer": "ipython3",
   "version": "3.11.9"
  }
 },
 "nbformat": 4,
 "nbformat_minor": 5
}
