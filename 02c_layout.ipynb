{
 "cells": [
  {
   "cell_type": "markdown",
   "id": "775f9b1e-8921-4517-8feb-5fcb5e69d57a",
   "metadata": {},
   "source": [
    "# Reviewing Jupyter Widgets: Layout of our Data Dashboard\n"
   ]
  },
  {
   "cell_type": "code",
   "execution_count": null,
   "id": "9c1f4fdd",
   "metadata": {},
   "outputs": [],
   "source": [
    "# Import exception handling\n",
    "import dashboard"
   ]
  },
  {
   "cell_type": "markdown",
   "id": "7ea8e075",
   "metadata": {},
   "source": [
    "### Goal of this Notebook\n",
    "\n",
    "In this notebook we will be developing a `main.py` module which will actually implement the full data dashboard. To achieve this, we will take our previously developed widgets and use Jupyter widget's layout mechanisms to create a more polished and user-friendly interface.  \n",
    "\n",
    "### Steps You Will Take In This Notebook\n",
    "In this notebook you will:\n",
    "1. Import our previously developed widgets\n",
    "2. Experiment with style and layout of widgets\n",
    "3. Create a layout for our data dashboard\n",
    "4. Create a function to produce our data dashboard\n",
    "5. Export the `main.py` module"
   ]
  },
  {
   "cell_type": "markdown",
   "id": "5244bb33",
   "metadata": {},
   "source": [
    "Designate that we are exporting selected code to the `main` module."
   ]
  },
  {
   "cell_type": "code",
   "execution_count": 4,
   "id": "5d62ce64-3f56-4ac4-8d8b-1eeb94f22c1e",
   "metadata": {},
   "outputs": [],
   "source": [
    "#| default_exp main"
   ]
  },
  {
   "cell_type": "markdown",
   "id": "91f96da3-1429-4c17-a340-2a6c9fedb1b1",
   "metadata": {},
   "source": [
    "## Importing our Previously Developed Widgets\n",
    "\n",
    "Let's start by importing the widgets we created last time for controlling parameters and for displaying the `pandas` dataframe and the plot."
   ]
  },
  {
   "cell_type": "code",
   "execution_count": null,
   "id": "88e92874-4371-4342-9658-41fdaa1ecfe6",
   "metadata": {},
   "outputs": [],
   "source": [
    "#| export\n",
    "# %answer key/dashboard/main.py 6\n",
    "\n",
    "import ipywidgets as widgets\n",
    "# import year_range, window_size, poly_order, selected_data_grid, update_selected_datagrid, plot_view, output_plot\n"
   ]
  },
  {
   "cell_type": "markdown",
   "id": "64130f3f-8784-4566-9229-41eb40dab3b1",
   "metadata": {},
   "source": [
    "We can even display them to make sure they still work as expected.\n",
    "\n",
    "> **Issues?** If they don't work as expected, change the beginning of the import statement above to `from dashboard.widgets` to `from key.dashboard.widgets`"
   ]
  },
  {
   "cell_type": "code",
   "execution_count": 6,
   "id": "3d909af2",
   "metadata": {},
   "outputs": [
    {
     "ename": "NameError",
     "evalue": "name 'selected_data_grid' is not defined",
     "output_type": "error",
     "traceback": [
      "\u001b[0;31m---------------------------------------------------------------------------\u001b[0m",
      "\u001b[0;31mNameError\u001b[0m                                 Traceback (most recent call last)",
      "Cell \u001b[0;32mIn[6], line 2\u001b[0m\n\u001b[1;32m      1\u001b[0m \u001b[38;5;66;03m# Display dataframe\u001b[39;00m\n\u001b[0;32m----> 2\u001b[0m \u001b[43mselected_data_grid\u001b[49m\n",
      "\u001b[0;31mNameError\u001b[0m: name 'selected_data_grid' is not defined"
     ]
    }
   ],
   "source": [
    "# Display dataframe\n",
    "selected_data_grid"
   ]
  },
  {
   "cell_type": "code",
   "execution_count": null,
   "id": "deb5a7f0-62f1-42dc-8db1-da929da9f893",
   "metadata": {},
   "outputs": [],
   "source": [
    "# Show plot_view Output widget\n",
    "plot_view"
   ]
  },
  {
   "cell_type": "code",
   "execution_count": null,
   "id": "fc4dc1d3",
   "metadata": {},
   "outputs": [],
   "source": [
    "# Check the year_range widget works\n",
    "year_range"
   ]
  },
  {
   "cell_type": "markdown",
   "id": "a1a05a0b-fdae-465c-8a58-54ce3a719a4a",
   "metadata": {},
   "source": [
    "You should be able to move the year range slider and see both the dataframe of selected data and the plot respond.\n",
    "\n",
    "Assuming this is the case, you successfully used nbdev to create a usable module for generating some visual elements of your dashboard. That's going to be a big deal as you can now build a new notebook to develop your dashboard and don't have to include the code for all those widget elements you've previously developed, you can just import them and move on!\n"
   ]
  },
  {
   "cell_type": "markdown",
   "id": "4619801c-bf74-4ba8-b01d-2918265221c3",
   "metadata": {},
   "source": [
    "## Changing Style and Layout of Widgets"
   ]
  },
  {
   "cell_type": "markdown",
   "id": "acec0efb-613c-4626-9995-4bb79220db3e",
   "metadata": {},
   "source": [
    "### Changing Widget Styling\n",
    "\n",
    "In the previous notebook, we noted the `style` attribute when we set up the widgets to have enough room to display their full text descriptions. The `style` attribute is used to change non-layout related styling options for widgets.\n",
    "\n",
    "We previously used it to set the width of the widgets when we created them:\n",
    "```python\n",
    "year_range = widgets.IntRangeSlider(description = 'Range of Years',\n",
    "                                    style={'description_width': 'initial'})\n",
    "```\n",
    "But what if we already created the `year_range` widget without the `style` attribute? We can still change the style of the widget after it has been created. We just call `style` attribute we want to change directly:\n",
    "```python\n",
    "year_range.style.description_width = 'initial'\n",
    "```"
   ]
  },
  {
   "cell_type": "markdown",
   "id": "ae93f0c4",
   "metadata": {},
   "source": [
    "While we only used one very utilitarian style attribute, but it is worth noting that you can use the style attribute to change your widgets in a variety of aesthetic ways: changing their colors, fonts, and more. A full list of which attributes are accessible for each widget is [available in the Jupyter widgets documentation](https://ipywidgets.readthedocs.io/en/stable/examples/Widget%20Styling.html#current-supported-attributes).\n"
   ]
  },
  {
   "cell_type": "markdown",
   "id": "dad59186-2c3f-4614-9051-01349bbd3ffd",
   "metadata": {},
   "source": [
    "### Changing Widget Layout\n",
    "\n",
    "Jupyter widgets have a `layout` attribute exposing a number of CSS properties that impact how widgets are laid out. \n",
    "\n",
    "One thing we can do is change the width and height of a widget.  Execute the following cells to see the effects of changing the width and height on the associated widgets:"
   ]
  },
  {
   "cell_type": "code",
   "execution_count": null,
   "id": "d4d45bc1",
   "metadata": {},
   "outputs": [],
   "source": [
    "# Redisplay the year_range widget to see the changes\n",
    "year_range"
   ]
  },
  {
   "cell_type": "code",
   "execution_count": null,
   "id": "8dcf81e9-3915-450f-9af1-86a47be83a70",
   "metadata": {},
   "outputs": [],
   "source": [
    "#| export\n",
    "# Change the width of the year_range widget (makes year range selection easier to see)\n",
    "year_range.layout.width = '500px'"
   ]
  },
  {
   "cell_type": "code",
   "execution_count": null,
   "id": "525b4740-91b8-4390-9431-856eb6424b3d",
   "metadata": {},
   "outputs": [],
   "source": [
    "# Display the poly_order widget\n",
    "poly_order"
   ]
  },
  {
   "cell_type": "code",
   "execution_count": null,
   "id": "8cdacd40-9e98-4b03-a51d-0a589523191b",
   "metadata": {},
   "outputs": [],
   "source": [
    "#| export\n",
    "# Change the width of the poly_order widget\n",
    "poly_order.layout.width = '140px'"
   ]
  },
  {
   "cell_type": "code",
   "execution_count": null,
   "id": "f7da141c",
   "metadata": {},
   "outputs": [],
   "source": [
    "# Display the datagrid containing the data\n",
    "selected_data_grid"
   ]
  },
  {
   "cell_type": "code",
   "execution_count": null,
   "id": "041a3ed0",
   "metadata": {},
   "outputs": [],
   "source": [
    "#| export\n",
    "# Change the width *and height* of the selected_data_grid widget\n",
    "selected_data_grid.layout.width = '350px'\n",
    "selected_data_grid.layout.height = '200px'"
   ]
  },
  {
   "cell_type": "markdown",
   "id": "6803f84a-0970-4b4e-a0cd-c0cb534adc13",
   "metadata": {},
   "source": [
    "## Creating the layout of your Dashboard\n",
    "\n",
    "### Container Widgets\n",
    "\n",
    "We an use container widgets for any number of reasons. Later on in this tutorial, we will use the Tab widget to create multistep web applications. Below, we will nest the `selected_data_grid` widget inside the Accordion widget to give the user the option to hide it away and make it smaller. Let's see what it looks like on its own first."
   ]
  },
  {
   "cell_type": "code",
   "execution_count": null,
   "id": "80a85fa7-44c5-49ca-a279-72d3ae16a39e",
   "metadata": {},
   "outputs": [],
   "source": [
    "#| export\n",
    "selected_data_accordion = widgets.Accordion(titles=('Selected Data',))"
   ]
  },
  {
   "cell_type": "code",
   "execution_count": null,
   "id": "67673900",
   "metadata": {},
   "outputs": [],
   "source": [
    "selected_data_accordion"
   ]
  },
  {
   "cell_type": "markdown",
   "id": "90de6211-60bb-4bce-b753-79c412263254",
   "metadata": {},
   "source": [
    "Not a lot going on here. Why? Because we haven't given the Accordion a \"child\" widget to hold just yet. Let's go ahead and do that.\n",
    "\n",
    "The data type of the `children` trait expected by Container widgets is a tuple. If you haven't encountered tuples before, tuples are similar to lists but they are immutable, meaning that their contents can't be change once you've created them. The syntax for a tuple with multiple elements is `('one', 'two', 'three')`. Just like a list but with parentheses (there's an exception to this analogy which is mentioned shortly)."
   ]
  },
  {
   "cell_type": "markdown",
   "id": "986e41ed-ffee-4d95-87ad-04b34bda8212",
   "metadata": {},
   "source": [
    "Okay, so let's try and add the `selected_data_grid` widget to the accordion. "
   ]
  },
  {
   "cell_type": "code",
   "execution_count": null,
   "id": "521494d8-7115-441b-94f8-f66e5d44bf56",
   "metadata": {},
   "outputs": [],
   "source": [
    "%%exception\n",
    "\n",
    "selected_data_accordion.children = (selected_data_grid)"
   ]
  },
  {
   "cell_type": "markdown",
   "id": "19b48ec4-796b-4efd-9381-7c41b6cd7d68",
   "metadata": {},
   "source": [
    "That's a lot of text in one error message. What happened here? Our error is telling us that the `children` trait expected a tuple, and not an Output widget. Do you remember when I said the syntax of a tuple looks the same as a list but with parenthesis? Well, the problem is parenthesis are used in many other situations in Python, so how can the Python interpreter tell the difference between a single element tuple and just a variable inside of parenthesis for another reason.  Tuples with one element are written with a comma following the single element, this makes it clear to the Python interpreter that you are creating a tuple and not just using parenthesis for another reason.  \n",
    "\n",
    "**EXERCISE** Fix the next cell so that you properly set the children attribute equal to a tuple with one element, the `selected_data_grid` widget."
   ]
  },
  {
   "cell_type": "code",
   "execution_count": null,
   "id": "331f412e-833b-4f14-91aa-5b5686b28fb6",
   "metadata": {},
   "outputs": [],
   "source": [
    "#| export\n",
    "# %answer key/dashboard/main.py 29"
   ]
  },
  {
   "cell_type": "markdown",
   "id": "07099cb4-cf07-4f76-99eb-fa69cf720fbe",
   "metadata": {},
   "source": [
    "It seems that by default, the data isn't showing. The accordion apprears to be closed. We can change this using the `selected_index` trait of the accordion. Let's see what it's set to now."
   ]
  },
  {
   "cell_type": "code",
   "execution_count": null,
   "id": "5c8f5b91-014e-433c-b703-e243a6d99c33",
   "metadata": {},
   "outputs": [],
   "source": [
    "print(selected_data_accordion.selected_index)"
   ]
  },
  {
   "cell_type": "markdown",
   "id": "81cbe9cb-d944-4692-aaa3-ff827135086c",
   "metadata": {},
   "source": [
    "If your accordion is closed, `selected_index` will be `None` and so this will print `None`. \n",
    "We can open the accordion programmatically by setting the `selected_index` to the index of the accordion we want to open. In this case there is only one. \n",
    "\n",
    "**EXERCISE**: Go ahead and try to open the accordion programmatically using the next cell."
   ]
  },
  {
   "cell_type": "code",
   "execution_count": null,
   "id": "35b6b8f5-acd9-4ad8-8987-f1d7050a8061",
   "metadata": {},
   "outputs": [],
   "source": [
    "#| export\n",
    "# %answer key/dashboard/main.py 33"
   ]
  },
  {
   "cell_type": "markdown",
   "id": "ee491de4-e373-4460-b576-4b4d323b6fad",
   "metadata": {},
   "source": [
    "We like this trick, because our users are probably more interested in our plot than the raw data anyways, so this keeps the raw data from being in the way."
   ]
  },
  {
   "cell_type": "markdown",
   "id": "4ccc1ed5-c59c-4853-a959-6a9160d5a4c2",
   "metadata": {},
   "source": [
    "### Add Descriptive Text with Links\n",
    "\n",
    "Before we put everything together, let's add some widgets that provide information about the dashboard. Because we want to take advantage of hyperlinking (to properly cite our sources), we will use the `HTML` widget. The `HTML` widget allows you to display text that can be styled using HTML and CSS.  First let's export the HTML we will want to display as two constants."
   ]
  },
  {
   "cell_type": "code",
   "execution_count": null,
   "id": "ee3f3e71-2120-4415-81e1-ff9f36ef6204",
   "metadata": {},
   "outputs": [],
   "source": [
    "#| export\n",
    "INTRO_TEXT = '''\n",
    "<p><b>Curve Smoothing</b>\n",
    "This tool is for smoothing and selecting global mean surface temperature data for visualization. Start by selecting a date\n",
    "range, and then select the smoothing parameters you want to use. Then click through to the next step, where you will change properties\n",
    "of the curve smoothing algorithm you selected and visualize the data.\n",
    "</p>\n",
    "'''\n",
    "SOURCES_TEXT = '''\n",
    "<p>\n",
    "<b>About Global Mean Surface Temperature Data</b>\n",
    "<a href=\"https://climate.nasa.gov/vital-signs/global-temperature/\"\n",
    "target=\"_blank\">Global Temperature (NASA)</a>,\n",
    "<a href=\"https://data.giss.nasa.gov/gistemp/graphs/\"\n",
    "target=\"_blank\">GISS Surface Temperature Analysis (NASA)</a>\n",
    "</p><p>\n",
    "This site is based on data downloaded from the following site on 2024-06-17:\n",
    "<a href=\"https://data.giss.nasa.gov/gistemp/graphs/graph_data/Global_Mean_Estimates_based_on_Land_and_Ocean_Data/graph.csv\"\n",
    "target=\"_blank\">Global Annual Mean Surface Air Temperature Change (NASA)</a>\n",
    "'''"
   ]
  },
  {
   "cell_type": "markdown",
   "id": "e9d46022-ef0a-4d0b-bb46-033cd9f8330b",
   "metadata": {},
   "source": [
    "### Layout widget objects\n",
    "\n",
    "In most cases, we can use the `Layout` object to set the layout of a particular widget on initialization.  Let's display the HTML variables we just defined in `HTML` widgets using the `Layout` object to set the width of the widgets to be the same.\n",
    "\n",
    "**PRO TIP**: `Layout` is just a widget, so you can observe its traits and react to changes in those traits like any other widget."
   ]
  },
  {
   "cell_type": "code",
   "execution_count": null,
   "id": "187d1f8a-7514-4c09-b019-233b7829acef",
   "metadata": {},
   "outputs": [],
   "source": [
    "#| export\n",
    "html_layout = widgets.Layout(max_width = '500px')\n",
    "intro_text = widgets.HTML(value = INTRO_TEXT, layout = html_layout)\n",
    "data_source_text = widgets.HTML(value = SOURCES_TEXT, layout = html_layout)"
   ]
  },
  {
   "cell_type": "code",
   "execution_count": null,
   "id": "4c89d351-c9a5-44df-8c12-3669f5c047df",
   "metadata": {},
   "outputs": [],
   "source": [
    "intro_text"
   ]
  },
  {
   "cell_type": "code",
   "execution_count": null,
   "id": "0395d883-2a40-4b0f-83b1-b634869cd59c",
   "metadata": {},
   "outputs": [],
   "source": [
    "data_source_text"
   ]
  },
  {
   "cell_type": "markdown",
   "id": "5a2ddda7-6828-492a-ba97-59b1110227a1",
   "metadata": {},
   "source": [
    "### Arranging Widgets with HBox and VBox Containers\n",
    "\n",
    "The arrangement where every widget is stacked one on top of the other isn't ideal for a data dashboard that we expect users to access from a desktop. Jupyter widgets has several container widgets to arrange widgets in various ways. Perhaps two of the most handy are the `HBox` and `VBox` widgets, which arrange widgets horizontally and vertically, respectively. If you are familiar with `FlexBox`, [those properties are available under the hood](https://ipywidgets.readthedocs.io/en/7.6.3/examples/Widget%20Styling.html#The-Flexbox-layout), but we will not cover them here (we will use one of those properties below). \n",
    "\n",
    "Let's create a `HBox` to put the curve parameter widgets (`window_size` and `poly_order`) side by side."
   ]
  },
  {
   "cell_type": "code",
   "execution_count": null,
   "id": "ea31ebaf-455b-43a4-b532-ca6be562d0e6",
   "metadata": {},
   "outputs": [],
   "source": [
    "#| export\n",
    "# Define the widget containing the curve smoothing parameters\n",
    "curve_parameters_layout = widgets.Layout(width='500px', justify_content='space-between')\n",
    "curve_parameter_widgets = widgets.HBox(children=(window_size, poly_order), \n",
    "                                       layout=curve_parameters_layout)"
   ]
  },
  {
   "cell_type": "code",
   "execution_count": null,
   "id": "bf3d31c5",
   "metadata": {},
   "outputs": [],
   "source": [
    "# Display the curve parameter widgets in a single container\n",
    "curve_parameter_widgets"
   ]
  },
  {
   "cell_type": "markdown",
   "id": "2d0c3c4c",
   "metadata": {},
   "source": [
    "We used the `justify_content` (Flexbox) paramter in the layout to make it so space was inserted between the two children so that the total width they occupy is 500 pixels. \n",
    "\n",
    "Let's compare the width of the curve parameter controls to the width of the `years_range` slider."
   ]
  },
  {
   "cell_type": "code",
   "execution_count": null,
   "id": "d08aeaf6-4e37-4c2f-9c01-fe8217b7063f",
   "metadata": {},
   "outputs": [],
   "source": [
    "year_range"
   ]
  },
  {
   "cell_type": "markdown",
   "id": "4298ab7e-b49d-46ba-855d-b78bc4bdb598",
   "metadata": {},
   "source": [
    "Nice! This looks good because this `HBox` is about as wide as our `year_range` slider.  Notice that we can pass in the children as a parameter to the widget, or change the children trait after the widget has already been instantiated. \n",
    "\n",
    "**EXERCISE**: Create a `VBox` vertical container that holds the descriptive text (`intro_text`, `data_source_text`) and `curve_parameter_widgets` and `year_range` widgets.  This will allow us to stack the widgets on top of each other."
   ]
  },
  {
   "cell_type": "code",
   "execution_count": null,
   "id": "ed9eb9fb-4693-4474-b95a-36422a98af4c",
   "metadata": {},
   "outputs": [],
   "source": [
    "#| export\n",
    "# %answer key/dashboard/main.py 47\n",
    "\n",
    "# Create a VBox to hold the description and control widgets\n",
    "# add children intro_text, data_source_text, year_range, curve_parameter_widgets\n"
   ]
  },
  {
   "cell_type": "code",
   "execution_count": null,
   "id": "23e4b976",
   "metadata": {},
   "outputs": [],
   "source": [
    "# Display the left_vbox widget we just created\n",
    "desc_and_ctrl_box"
   ]
  },
  {
   "cell_type": "markdown",
   "id": "db8c12e5-6013-4e92-bf0f-dc3304f2b41d",
   "metadata": {},
   "source": [
    "This look okay, I guess, but we could really use some more padding in between the widgets."
   ]
  },
  {
   "cell_type": "code",
   "execution_count": null,
   "id": "708d637b-24ab-4fae-a242-5a66a072c946",
   "metadata": {},
   "outputs": [],
   "source": [
    "desc_and_ctrl_box.layout.margin = '15px 0 15px 0' # top, right, bottom, left"
   ]
  },
  {
   "cell_type": "markdown",
   "id": "fb1dd1b0-7930-465d-8598-65f32b2a7539",
   "metadata": {},
   "source": [
    "**EXERCISE**: Hmmm... that seemed to add a little padding, but only to the outside of the `desc_and_ctrl_box` container. Can you guess how we might loop through and add padding to each of the child widgets? Try it below."
   ]
  },
  {
   "cell_type": "code",
   "execution_count": null,
   "id": "5ac1fc6e-4f35-4fbd-b71f-b8fa7cae169c",
   "metadata": {},
   "outputs": [],
   "source": [
    "#| export\n",
    "# %answer key/dashboard/main.py 52\n",
    "\n",
    "# how might we add padding to each of the widgets\n"
   ]
  },
  {
   "cell_type": "markdown",
   "id": "4c883a10-3dbd-4c66-af69-12961ff62d09",
   "metadata": {},
   "source": [
    "That looks a lot better! Now take care of the right side of our dashboard by creating a `VBox` container containing the `selected_data_accordion` and `plot_view` widgets."
   ]
  },
  {
   "cell_type": "code",
   "execution_count": null,
   "id": "55438ef3-d32b-4362-9aa5-7cfe2f555c1b",
   "metadata": {},
   "outputs": [],
   "source": [
    "#| export\n",
    "# %answer key/dashboard/main.py 54\n",
    "\n",
    "# Add a vertical box holding both table and plot visualizations of selected data\n"
   ]
  },
  {
   "cell_type": "code",
   "execution_count": null,
   "id": "209f3c99",
   "metadata": {},
   "outputs": [],
   "source": [
    "data_box"
   ]
  },
  {
   "cell_type": "markdown",
   "id": "24e051f8-5671-4311-bbe7-423f0cb9b540",
   "metadata": {},
   "source": [
    "Okay! Lets put the left and the right-hand boxes side by side to create the final form of our dashboard!"
   ]
  },
  {
   "cell_type": "code",
   "execution_count": null,
   "id": "48c69c26-7755-4bdf-b980-6a520b04e8d6",
   "metadata": {},
   "outputs": [],
   "source": [
    "#| export\n",
    "main_widget = widgets.HBox(children = (desc_and_ctrl_box, data_box))"
   ]
  },
  {
   "cell_type": "code",
   "execution_count": null,
   "id": "4ae5a72e",
   "metadata": {},
   "outputs": [],
   "source": [
    "main_widget"
   ]
  },
  {
   "cell_type": "markdown",
   "id": "06b94b84-e5b3-4df4-ba08-28d9b11a6d10",
   "metadata": {},
   "source": [
    "Depending on the width of your display, this might appear awfully squished together! Let's change a few more layout settings to clean things up."
   ]
  },
  {
   "cell_type": "code",
   "execution_count": null,
   "id": "f73a7fee-6d94-421d-b391-55d8dd36a43c",
   "metadata": {},
   "outputs": [],
   "source": [
    "#| export\n",
    "data_box.layout.margin = '0 0 0 30px'  # top, right, bottom, left\n",
    "data_box.layout.align_items = 'flex-end'\n",
    "selected_data_accordion.layout.width = '88%'\n",
    "desc_and_ctrl_box.layout.min_width = '500px'"
   ]
  },
  {
   "cell_type": "markdown",
   "id": "dcd61361-b84d-4665-88d0-c0e42c3e8dc0",
   "metadata": {},
   "source": [
    "Wow, that looks pretty good!  There are several other ways to approach layout of widgets in Jupyter widgets, but this is a good start.  You can find more information in the [Jupyter Layout documentation](https://ipywidgets.readthedocs.io/en/stable/examples/Layout%20Templates.html).\n",
    "\n",
    "\n",
    "It's time to export the `main` module for our dashboard. Remember that our `main_widget` contains all the children widgets, so we should be able to simply import `main` in another notebook to see the final product."
   ]
  },
  {
   "cell_type": "code",
   "execution_count": null,
   "id": "aa9e694b-a2ab-4da1-b984-85f062f5e9d1",
   "metadata": {},
   "outputs": [],
   "source": [
    "from nbdev.export import nb_export\n",
    "\n",
    "nb_export('02c_layout.ipynb', 'dashboard')"
   ]
  },
  {
   "cell_type": "markdown",
   "id": "06a05c5b",
   "metadata": {},
   "source": [
    "# Challenges with this Approach\n",
    "\n",
    "Notice that even for a relatively simple dashboard, we had to spend quite a bit of time writing:\n",
    "- multiple handler functions for the widgets since multiple controls were used,\n",
    "- the handler functions needed to handle the validation of inputs,\n",
    "- custom layout of widgets was necessary to have all the controls appear together.\n",
    "\n",
    "As a web app's controls and logic get more complex, the complexity of the code to handle the controls and layout can grow burdensome.  This is why we will be exploring a more advanced approach in the next section of this tutorial."
   ]
  },
  {
   "cell_type": "markdown",
   "id": "0e1dfb2f",
   "metadata": {},
   "source": []
  }
 ],
 "metadata": {
  "kernelspec": {
   "display_name": "Python 3 (ipykernel)",
   "language": "python",
   "name": "python3"
  },
  "language_info": {
   "codemirror_mode": {
    "name": "ipython",
    "version": 3
   },
   "file_extension": ".py",
   "mimetype": "text/x-python",
   "name": "python",
   "nbconvert_exporter": "python",
   "pygments_lexer": "ipython3",
   "version": "3.11.9"
  }
 },
 "nbformat": 4,
 "nbformat_minor": 5
}
