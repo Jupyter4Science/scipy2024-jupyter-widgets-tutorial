{
 "cells": [
  {
   "cell_type": "markdown",
   "id": "a55fea8a-ca20-4dcf-a452-67cae672b555",
   "metadata": {},
   "source": [
    "# Introducing nbdev: A Notebook-Driven Development Platform\n",
    "\n",
    "### Goal of this Notebook\n",
    "\n",
    "Working through of this notebook should help you to understand how we can use nbdev to create a `dashboard` Python module that contains all the files we need for our dashboard within a Jupyter notebook.\n",
    "\n",
    "### Steps You Will Take In This Notebook\n",
    "In this notebook you will:\n",
    "1. Define the target file/module for export using `#| default_exp` directive\n",
    "2. Mark selected cells for export using `#| export` directive\n",
    "3. Export the selected cells to a module in the `dashboard` package using the `nb_export()` function."
   ]
  },
  {
   "cell_type": "markdown",
   "id": "808130cf-0f9b-41d0-b1ea-31e23236fd54",
   "metadata": {},
   "source": [
    "## What is nbdev?\n",
    "\n",
    "- [nbdev](https://nbdev.fast.ai) - a notebook-driven development platform. Simply write notebooks with lightweight markup and get high-quality documentation, tests, continuous integration, and packaging.\n",
    "\n",
    "- [modular nbdev](https://nbdev.fast.ai/tutorials/modular_nbdev.html) - makes use of only the most basic features of nbdev. It will allow us take any standalone notebook and turn it into a Python script or module. Modular nbdev will allow us to bridge the gap between messy, exploratory tutorial notebooks and clean, well-organized Python modules that we can import from. \n",
    "\n",
    "The following introduction to \"modular nbdev\" is a much simpler than the full [nbdev tutorial](https://nbdev.fast.ai/tutorials/tutorial.html) because we won't create a continuous integration Python package that can be uploaded to PyPi and/or Anaconda. We will simply use notebooks to create clean Python modules that we can use to build our dashboards and web apps. From here on out, when we mention \"nbdev\", we are really referring to \"modular nbdev.\""
   ]
  },
  {
   "cell_type": "markdown",
   "id": "3cc86c65-f783-492c-bd8d-926da31f3ae5",
   "metadata": {},
   "source": [
    "# nbdev Exports Tutorial\n",
    "\n",
    "### Why?\n",
    "While Jupyter notebooks can be exported to a Python file, nbdev allows us to export only some notebook cells, those that we choose, into a Python module. The real benefit of this approach lies in the ability to allow your notebook to tell the story of how your code came into its final form. This programming paradigm where the code provides the documentation for decisions its design is called [literate programming](https://en.wikipedia.org/wiki/Literate_programming).\n",
    "\n",
    "Instead of cleaning up your notebooks when you have achieved your coding goal, you can leave in all the valuable information about its history including (1) showing intermediate steps for clarity and testing and\n",
    "(2) documenting failed attempts and design decisions. This can be very helpful for another developer (or our future-selves) who may be trying to understand our code."
   ]
  },
  {
   "cell_type": "markdown",
   "id": "f6824dc7-03a7-4a76-91b3-4494c64fbdfb",
   "metadata": {},
   "source": [
    "### How? Creating the first file of our `dashboard` module\n",
    "\n",
    "Now we'll use nbdev to create a Python module - `dashboard` - that will contain the Python code needed to build our dashboard in several files.  Each file will be built using a separate Jupyter notebook."
   ]
  },
  {
   "cell_type": "markdown",
   "id": "139e929d-6eb0-4b45-b9cb-8121faf4a6c6",
   "metadata": {},
   "source": [
    "#### `#| default_exp`: Defining the target file for export\n",
    "\n",
    "The first thing we need to do is tell nbdev what file we intend to export selected cells to.\n",
    "\n",
    "We are intending to create a Python package called `dashboard` that will contain all the files we need for our dashboard. By convention, it will be created in a directory called `dashboard`.  We define that directory when we actually export the cells near the end of the notebook.  To define the individual file (often called module) within this package, we use the `#| default_exp` directive.  Notice that nbdev directives all start with \"#|\".\n",
    "\n",
    "We are going to create a few line and cell magics that we will use through the tutorial. We want these magic functions to be accessible anywhere. Therefore, if we want them to go in `__init__.py` the export target for this notebook needs to be `__init__`.\n",
    "\n",
    "**EXERCISE**: Add default export directive to place exported cells in the `__init__.py` to complete the following cell..."
   ]
  },
  {
   "cell_type": "code",
   "execution_count": null,
   "id": "2e4e22d8-5e1b-42f9-938c-e96e56504a84",
   "metadata": {},
   "outputs": [],
   "source": [
    "# TODO: Add default export directive to place exported cells in the `__init__.py`\n",
    "# file of this package."
   ]
  },
  {
   "cell_type": "markdown",
   "id": "a994ec99",
   "metadata": {},
   "source": [
    "> 1.  You can also give it a “dotted module names” as is done with Python packages. For example, a `#| default_exp` directive with an output file of `some.module` will create a file called `some/module.py` within the package directory.\n",
    "> 2.  Each Jupyter notebook can only be exported to a SINGLE Python module. If you want to export cells to multiple modules, you will need to create multiple notebooks.\n",
    "> 3.  The `nb_export` function we will use reads the Jupyter notebook file from the disk in order to convert it.  This means only changes to the notebook that have been saved to disk will be written to the Python package."
   ]
  },
  {
   "cell_type": "markdown",
   "id": "768db916-323c-4f36-8d12-e4d5505c17af",
   "metadata": {},
   "source": [
    "#### `#| export`: Marking a cell for export\n",
    "\n",
    "This directive tells nbdev that we want to export the code in this notebook cell to the module specified by `default_exp`. Notice that we need to export everything that we want to end up in the Python file, so we can't forget to export our imports.\n",
    "\n",
    "- `#| export` Gotchas\n",
    "\n",
    "  - All nbdev directives (those starting with `#| ` must be in the first line of the cell.\n",
    "\n",
    "  - When performing an export, the cell can only contain imports *or* any other Python commands other than imports, but not both.  This is due to the way nbdev parses the cells in order to build a representation of the documentation.\n",
    "\n",
    "  - The great benefit of using nbdev for development can also be the most challenging part of using nbdev - making sure we have not forgotten to export all the right cells to our resulting Python file. If you ever get a confusing or unexpected error on importing a module created with nbdev, it's very likely you forgot to export one of your code cells.\n",
    "\n",
    "**EXERCISE**: Add the missing export directive to export this cell to the dashboard module to complete the following cell..."
   ]
  },
  {
   "cell_type": "code",
   "execution_count": null,
   "id": "4a54f937-2bd7-473d-8dc9-b575de271b45",
   "metadata": {},
   "outputs": [],
   "source": [
w    "# TODO: add the missing export directive to export this cell to the dashboard module\n",
    "from IPython import get_ipython\n",
    "from IPython.core.magic import register_line_magic, register_cell_magic\n",
    "import re\n",
    "import sys\n",
    "import os"
   ]
  },
  {
   "cell_type": "markdown",
   "id": "ac541e41",
   "metadata": {},
   "source": [
    "### Defining the `%exception` cell magic\n",
    "\n",
    "Below is the code that defines the cell magic function called `exception`. \n",
    "\n",
    "**Motivation**: Often in tutorials, we want to demonstrate an intentional error. The default behavior of a Jupyter Notebook is to print the full traceback, which can be quite lengthy and distracting. In addition, if the participant wants to \"Restart and Run All Cells\" due to some problem they encountered, the execution will get hung up where the error is. In our case, when running a cell with an error for demonstrative purposes, we want to display the error, but we don't want to display the traceback or prevent the execution of the next cell. This cell magic achieves this desired behavior.\n",
    "\n",
    "We will define the `exception` cell magic function below and mark this cell for export to the `dashboard` module."
   ]
  },
  {
   "cell_type": "code",
   "execution_count": null,
   "id": "4f2bd252-8ec7-416e-8491-3f6e9b9baacd",
   "metadata": {},
   "outputs": [],
   "source": [
    "#| export\n",
    "@register_cell_magic('exception')\n",
    "def exception(line, cell):\n",
    "    ip = get_ipython()\n",
    "    try:\n",
    "        exec(cell, None, ip.user_ns)\n",
    "    except Exception as e:\n",
    "        etype, value, tb = sys.exc_info()\n",
    "        value.__cause__ = None  # suppress chained exceptions\n",
    "        ip._showtraceback(etype, value, ip.InteractiveTB.get_exception_only(etype, value))"
   ]
  },
  {
   "cell_type": "markdown",
   "id": "a822ea0b-cb3b-4504-913e-ec372c9e6fe0",
   "metadata": {},
   "source": [
    "As noted earlier, a benefit of literate programming is that we can test out this function in-line and retain those tests. We don't have to delete the exploratory or explanatory code.\n",
    "\n",
    "The next cell shows what happens when we use the cell magic. Notice that there isn't an export directive at the top, so this breaking error isn't exported to our Python module."
   ]
  },
  {
   "cell_type": "code",
   "execution_count": null,
   "id": "bab48bcc-9a44-4ad5-8e30-8ba332e0a16c",
   "metadata": {},
   "outputs": [],
   "source": [
    "%%exception\n",
    "\n",
    "5 / 0"
   ]
  },
  {
   "cell_type": "markdown",
   "id": "f13d0efc-f3e0-4fd0-87bb-b7478211dfe5",
   "metadata": {},
   "source": [
    "You can compare that output to the output below, which includes a traceback by default because the cell magic wasn't used."
   ]
  },
  {
   "cell_type": "code",
   "execution_count": null,
   "id": "04f6f9ff-6631-48e0-9d20-066640a20005",
   "metadata": {},
   "outputs": [],
   "source": [
    "5 / 0"
   ]
  },
  {
   "cell_type": "markdown",
   "id": "49568f0d-4ad9-4727-9fa0-bcdf3005e0bb",
   "metadata": {},
   "source": [
   ]
  },
  {
   "cell_type": "markdown",
   "id": "ca63138c-13ff-445e-8a55-7176def3366f",
   "metadata": {},
   "source": [
    "Let's define the `answer` line magic function below and mark this cell for export to the `dashboard` module."
   ]
  },
  {
   "cell_type": "code",
   "execution_count": null,
   "id": "bf826708-05c7-48a6-b8ce-8423fe897faf",
   "metadata": {},
   "outputs": [],
   "source": [
    "#| export\n",
    "@register_line_magic('answer')\n",
    "def answer(inputs):\n",
    "    '''\n",
    "    This is a cell magic called answer that allows tutorial goers to import the correct answer from the key. \n",
    "    '''\n",
    "    words = []\n",
    "    for word in inputs.split(' '):\n",
    "        if not word.startswith('#') and len(word) != 0:\n",
    "            words.append(word)\n",
    "        else:\n",
    "            break\n",
    "\n",
    "    flag = False\n",
    "    if len(words) == 2:\n",
    "        if words[1] == '-e':\n",
    "            flag = True\n",
    "        else:\n",
    "            filepath = words[0]\n",
    "            cell_number = int(words[1])\n",
    "\n",
    "            with open(filepath, 'r') as file:\n",
    "                lines = file.readlines()\n",
    "\n",
    "            pattern = r'# %%\\s+(.+)\\s+(\\d+)'\n",
    "            start_line = None\n",
    "            end_line = None\n",
    "\n",
    "            for i, line in enumerate(lines):\n",
    "                if re.match(pattern, line):\n",
    "                    match = re.search(pattern, line)\n",
    "                    if match and int(match.group(2)) == cell_number:\n",
    "                        start_line = i + 1\n",
    "                        break\n",
    "            if start_line is not None:\n",
    "                for i in range(start_line, len(lines)):\n",
    "                    if re.match(pattern, lines[i]):\n",
    "                        end_line = i\n",
    "                        break\n",
    "                else:\n",
    "                    end_line = len(lines)\n",
    "\n",
    "            if start_line is not None and end_line is not None:\n",
    "                code_chunk = f\"#| export\\n# %answer {inputs}\\n\\n\" + ''.join(lines[start_line:end_line])\n",
    "                code_chunk = code_chunk.rstrip(\"\\n\")\n",
    "                get_ipython().set_next_input(code_chunk, replace=True)\n",
    "            else:\n",
    "                raise Exception(f\"Cell number {cell_number} not found in the Python file.\")\n",
    "\n",
    "    if len(words) == 1 or words[1] == '-e':\n",
    "        filepath = words[0]\n",
    "        with open(filepath, 'r') as file:\n",
    "            lines = file.readlines()\n",
    "        code_chunk = ''.join(lines[:])\n",
    "        if flag:\n",
    "            code_chunk = f\"# %%export {filepath}\\n\\n\" + code_chunk\n",
    "        else: \n",
    "            code_chunk = f\"# %answer {filepath}\\n\\n\" + code_chunk\n",
    "        get_ipython().set_next_input(code_chunk, replace=True)\n",
    "\n",
    "    with open(filepath, 'r') as file:\n",
    "        lines = file.readlines()"
   ]
  },
  {
   "cell_type": "markdown",
   "id": "8550a7c2-5176-4a9e-b66d-db1ccd44fdf3",
   "metadata": {},
   "source": [
    "#### Using the `%answer` cell magic \n",
    "\n",
    "If later during this tutorial you discover you have trouble coming up with an answer on your own, you can always import it from the answer key! These tutorial notebooks will provide the `%answer` cell magics (usually commented out) so you can use if you get stuck. These `%answer` cell magics require parameters **which will be provided for you.**\n",
    "\n",
    "##### Pulling the answer from a non-exported file\n",
    "\n",
    "Sometimes we will want to check an answer from a cell that isn't a module exported by nbdev. In this case, we will provide the file path only.\n",
    "\n",
    "##### Pulling the answer from an exported module\n",
    "\n",
    "The following cell shows how to pull in an answer to a cell that starts with `#| export`. The path to the answer key files is the same as the default, but is preceded by the `key` directory. The example in the next cell loads the code from the 6th cell of this notebook, which is the cell we export with the import statements.\n",
    "\n",
    "**EXERCISE**: Test the `%answer` cell magic by uncommenting the cell below and executing it.  Note that uncommenting the `%answer` cell magic and executing the cell will only LOAD the code from the answer key. It will not execute the code. You will need to execute the cell again if you want to use the answer!"
   ]
  },
  {
   "cell_type": "code",
   "execution_count": null,
   "id": "d2cb3849-b5f0-4313-928e-1cf3bcc425d2",
   "metadata": {},
   "outputs": [],
   "source": [
    "# Uncomment the following line to test the answer magic\n",
    "# %answer key/dashboard/__init__.py 8"
   ]
  },
  {
   "cell_type": "markdown",
   "id": "9c7ecc7a-0058-4d2f-be99-0d50a6fe0519",
   "metadata": {},
   "source": [
    "## `nb_export()`: Exporting the notebook to a Python module\n",
    "\n",
    "Finally, we can use the `nb_export()` function to export the cells we selected into a Python file. The second parameter tells nbdev which package to export the module to. Let's go ahead and export this notebook to the `dashboard` package.\n",
    "\n",
    "Note that the `nb_export()` function reads the notebook from disk before creating the module (and package directory if necessary), so you will need to save your notebook before running the export!\n",
    "\n",
    "> **IMPORTANT**: Do not forget to save before exporting the notebook, or your most recent changes will not make it into `__init__.py` file in the `dashboard` directory. It is also a good habit to \"Restart Kernel and Clear All Outputs\" and then save your notebook at the same time as you export. That way, when you get around to committing your code, your `git diff` isn't filled up with a bunch of serial numbers and other unintelligible things."
   ]
  },
  {
   "cell_type": "code",
   "execution_count": 9,
   "id": "0b8b5029-0636-4dda-ae11-d5641450ec35",
   "metadata": {},
   "outputs": [],
   "source": [
    "from nbdev.export import nb_export\n",
    "\n",
    "# The nb_export command requires the notebook name and the target library name\n",
    "nb_export('02a_nbdev.ipynb', 'dashboard')"
   ]
  },
  {
   "cell_type": "markdown",
   "id": "dcd23a2c-ec98-4ab5-a362-1ff9e1e5f37d",
   "metadata": {},
   "source": [
    "Usually, we will put `nb_export` at the end of our file for convenience, but we will continue on from here."
   ]
  },
  {
   "cell_type": "markdown",
   "id": "a7a42e2c-1d26-4771-8380-f05d1446cccc",
   "metadata": {},
   "source": [
    "## Using the exported `dashboard` module\n",
    "\n",
    "**EXERCISE**: Another way to verify that this worked is to import the function we just wrote to the Python file. Can you guess what that import statement would look like?"
   ]
  },
  {
   "cell_type": "code",
   "execution_count": 11,
   "id": "8c0f19f1-f4a8-4740-a069-d038e5d8b503",
   "metadata": {},
   "outputs": [],
   "source": [
    "# %answer key/02a/01.py\n",
    "\n",
    "# import ..."
   ]
  },
  {
   "cell_type": "markdown",
   "id": "c7060754-a91a-42e1-8aa0-0455741edb66",
   "metadata": {},
   "source": [
    "So for most modules, the import statement would look like `dashboard.__init__` but the `__init__` file is special, and will be imported any time we make an import from `dashboard` package.\n",
    "\n",
    "Great job! Now we know the basic idea of what nbdev does. \n",
    "\n",
    "**EXERCISE**: Go ahead and use the `%load` line magic to inspect the exported `dashboard.__init__` file below."
   ]
  },
  {
   "cell_type": "code",
   "execution_count": null,
   "id": "1c1de961-d19b-41b7-a893-992d8fb32422",
   "metadata": {},
   "outputs": [],
   "source": [
    "# %answer key/02a/02.py\n",
    "\n",
    "# %load pkg/module.py"
   ]
  },
  {
   "cell_type": "markdown",
   "id": "4ef6b07d-1023-48ec-bdb6-879d1c7d216d",
   "metadata": {},
   "source": [
    "There are a few things to notice here:\n",
    "\n",
    "1. The first thing to notice is that we get a warning about this file being autogenerated. That is, if we make changes to `dashboard/__init__.py`, those changes will be overwritten the next time we run `nb_export`.\n",
    "\n",
    "2. The second thing to notice is that there is a handy comment to tell us where the code came from. `# %% ../02a_nbdev.ipynb 10` tells us that the code came from the 10th code cell."
   ]
  },
  {
   "cell_type": "markdown",
   "id": "4fa634ee-53f9-41d1-8ad4-8d55f5e154be",
   "metadata": {},
   "source": [
    "### The End\n",
    "\n",
    "We will not go over the code below (although it is exported to the `dashboard` module, we won't explicitly use it).\n",
    "\n",
    "  Proceed to the next notebook.\n",
    "___"
   ]
  },
  {
   "cell_type": "code",
   "execution_count": null,
   "id": "97fb40d0-242e-4aea-aa50-d054d38f8b55",
   "metadata": {},
   "outputs": [],
   "source": [
    "#| export\n",
    "@register_cell_magic('export')\n",
    "def export(line, cell=None):\n",
    "    line_args = line.split()\n",
    "    export_filepath = None\n",
    "\n",
    "    if len(line_args):\n",
    "        export_filepath = line_args[0]\n",
    "        directory = os.path.dirname(export_filepath)\n",
    "        os.makedirs(directory, exist_ok=True)\n",
    "        with open(export_filepath, 'w') as file:\n",
    "            file.write(cell)\n",
    "        print(f\"exported to {export_filepath}\")\n",
    "            \n",
    "    processed_lines = []\n",
    "    for line in cell.split('\\n'):\n",
    "        comment_match = re.search(r'#', line)\n",
    "        if comment_match:\n",
    "            line = line[comment_match.start():]\n",
    "            processed_lines.append(line)\n",
    "\n",
    "    processed_cell = '\\n'.join(processed_lines)\n",
    "    if len(line_args):\n",
    "        processed_cell = '# %answer ' + line_args[0] + '\\n\\n' + processed_cell\n",
    "    get_ipython().set_next_input(processed_cell, replace=True)"
   ]
  }
 ],
 "metadata": {
  "kernelspec": {
   "display_name": "Python 3 (ipykernel)",
   "language": "python",
   "name": "python3"
  },
  "language_info": {
   "codemirror_mode": {
    "name": "ipython",
    "version": 3
   },
   "file_extension": ".py",
   "mimetype": "text/x-python",
   "name": "python",
   "nbconvert_exporter": "python",
   "pygments_lexer": "ipython3",
   "version": "3.11.9"
  }
 },
 "nbformat": 4,
 "nbformat_minor": 5
}
