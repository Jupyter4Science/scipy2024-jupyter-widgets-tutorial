{
 "cells": [
  {
   "cell_type": "markdown",
   "id": "4bcd1563-e526-4f42-b229-3ba38af4c6ee",
   "metadata": {},
   "source": [
    "# Testing our Dashboard Module\n",
    "\n",
    "### Goal of this Notebook\n",
    "\n",
    "In this notebook, we will test the dashboard module that we have created in the previous notebooks. It should be possible to simply import the `main_widget` function from the `main` module of the `dashboard` package and run it to get the dashboard up and running.\n",
    "\n",
    "### Steps You Will Take In This Notebook\n",
    "In this notebook you will:\n",
    "1. Import our `main_widget` function `from dashboard.main import main_widget`\n",
    "2. Test it!\n"
   ]
  },
  {
   "cell_type": "markdown",
   "id": "b205c260",
   "metadata": {},
   "source": [
    "In addition to just seeing that the layout is working, we will also test the functionality of the dashboard. For example, make sure you can't create a smoothing function with a polynomial order larger than the window size."
   ]
  },
  {
   "cell_type": "code",
   "execution_count": null,
   "id": "8abc327f-ee19-4bbe-8d55-954bd4ad3c5b",
   "metadata": {},
   "outputs": [],
   "source": [
    "from dashboard.main import main_widget # import the main widget\n",
    "\n",
    "main_widget # display the main widget"
   ]
  },
  {
   "cell_type": "markdown",
   "id": "1e14b929",
   "metadata": {},
   "source": [
    "**Isn't nbdev great!** Instead of playing with toy examples, we can build a sophisticated, clean Python application from a series of tutorial-style notebooks. This dashboard was produced from the tutorial notebooks and its development history is recorded in those notebooks."
   ]
  }
 ],
 "metadata": {
  "kernelspec": {
   "display_name": "python3",
   "language": "python",
   "name": "python3"
  },
  "language_info": {
   "codemirror_mode": {
    "name": "ipython",
    "version": 3
   },
   "file_extension": ".py",
   "mimetype": "text/x-python",
   "name": "python",
   "nbconvert_exporter": "python",
   "pygments_lexer": "ipython3",
   "version": "3.11.9"
  }
 },
 "nbformat": 4,
 "nbformat_minor": 5
}
