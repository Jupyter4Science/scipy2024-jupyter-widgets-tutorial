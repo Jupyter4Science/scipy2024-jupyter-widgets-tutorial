{
 "cells": [
  {
   "cell_type": "markdown",
   "id": "00b54325-2a3f-4c98-921b-d8d6ff920a58",
   "metadata": {},
   "source": [
    "# Review of Jupyter Notebooks and Jupyter Widgets\n",
    "\n",
    "### Goal of this Notebook\n",
    "\n",
    "This notebook is designed to provide a very brief overview of Jupyter Lab as an interface for working with Jupyter Notebooks. \n",
    "\n",
    "### Steps You Will Take In This Notebook\n",
    "In this notebook you will:\n",
    "1. Review some benefits of using Jupyter Lab for viewing Jupyter notebooks.\n",
    "2. Briefly review some features of Jupyter widgets as they interface with Jupyter Lab.\n"
   ]
  },
  {
   "cell_type": "code",
   "execution_count": null,
   "id": "8ab29772",
   "metadata": {},
   "outputs": [],
   "source": []
  },
  {
   "cell_type": "markdown",
   "id": "27a9e5a7-f601-4d1e-93db-196ecc270885",
   "metadata": {},
   "source": [
    "## Benefits of Developing in Jupyter Notebooks\n",
    "\n",
    "1. Exploratory (iterative) programming (removes much of the need for debuggers)\n",
    "2. Literate programming (Knuth)\n",
    "3. Already familiar to scientists and data scientists\n",
    "4. **Ideal for visual outputs and widgets**"
   ]
  },
  {
   "cell_type": "markdown",
   "id": "306f2c0c-be3b-4d76-ac29-ba05961e202b",
   "metadata": {},
   "source": [
    "## Benefits of JupyterLab\n",
    "\n",
    "From the [Project Jupyter website](https://jupyter.org/)...\n",
    "> JupyterLab is the latest web-based interactive development environment for notebooks, code, and data. A modular design invites extensions to expand and enrich functionality.\n",
    "\n",
    "1. File browser\n",
    "2. Output views\n",
    "3. Click-and-drag windows\n",
    "3. IDE-like extensions"
   ]
  },
  {
   "cell_type": "markdown",
   "id": "4d7fbc8d-40da-4c89-a434-14a02880298d",
   "metadata": {},
   "source": [
    "## Getting Started with JupyterLab"
   ]
  },
  {
   "cell_type": "markdown",
   "id": "4895f487-d61c-49ee-805f-ed3041fb1651",
   "metadata": {},
   "source": [
    "### File Browser\n",
    "\n",
    "Familiar with the classic Jupyter Notebook interface? JupyterLab has a lot more features. For example you can **show or collapse** the file browser. This way, we don't have to work in multiple web browser tabs."
   ]
  },
  {
   "cell_type": "markdown",
   "id": "e19f6a9c-a672-4e5d-8a57-981e5786ff7a",
   "metadata": {},
   "source": [
    "### Use shift+enter to run the cell below"
   ]
  },
  {
   "cell_type": "code",
   "execution_count": null,
   "id": "e3b78f51-e8a2-4dde-bd2f-b846681e8119",
   "metadata": {},
   "outputs": [],
   "source": [
    "from ipywidgets import IntSlider\n",
    "\n",
    "slider = IntSlider()\n",
    "slider"
   ]
  },
  {
   "cell_type": "markdown",
   "id": "0c28f808-c92e-4dba-b841-9134e7017b46",
   "metadata": {},
   "source": [
    "### Output View\n",
    "\n",
    "Right click on the widget above and select \"Create New View for Output\"."
   ]
  },
  {
   "cell_type": "markdown",
   "id": "8606f8ef-dbf2-4a28-854c-121868d47154",
   "metadata": {},
   "source": [
    "### Click-and-drag windows\n",
    "\n",
    "Try it out with the Output View"
   ]
  },
  {
   "cell_type": "markdown",
   "id": "e79e3f42-4b87-45b2-95e1-bd54dfa83b86",
   "metadata": {},
   "source": [
    "### Bi-directional communication\n",
    "\n",
    "Notice that the widgets are two views of the same underlying model. You can change either one and changes will be reflected in the other."
   ]
  },
  {
   "cell_type": "markdown",
   "id": "8e9594e3",
   "metadata": {},
   "source": [
    "## Jupyter Widgets\n",
    "\n",
    "In a later notebook we will be reviewing the functionality of Jupyter widgets. But for now all you need to know is that many such widgets are available and that they provide an easy way to provide a graphical user interface for your code.\n",
    "\n",
    "Executing the cell below will provide a GUI to all the Jupyter widgets available."
   ]
  },
  {
   "cell_type": "code",
   "execution_count": null,
   "id": "84c768db",
   "metadata": {},
   "outputs": [],
   "source": [
    "from reference.widget_org import organized_widgets, list_overview_widget\n",
    "\n",
    "groups = organized_widgets(organize_by='ui')\n",
    "help_url_base='reference/complete-ipywidgets-widget-list.ipynb'\n",
    "list_overview_widget(groups, columns=2, min_width_single_widget=200, help_url_base=help_url_base)"
   ]
  },
  {
   "cell_type": "markdown",
   "id": "25f45786",
   "metadata": {},
   "source": [
    "**EXERCISE:** Pick a widget you like and display it in the cell below (**Hint**: Examine the linked documentation to see how to implement each widget)."
   ]
  },
  {
   "cell_type": "code",
   "execution_count": null,
   "id": "bacde319",
   "metadata": {},
   "outputs": [],
   "source": [
    "# Try to get a widget of your choice to display here...\n"
   ]
  },
  {
   "cell_type": "markdown",
   "id": "4faef101-3b7f-4b20-b48e-7d33968612a5",
   "metadata": {},
   "source": [
    "In addition to the widgets provided by Jupyter widgets there are many packages that provide additional widgets.  We will review a few of them when we work through this tutorial, specifically `ipydatagrid` for displaying dataframes and `ipympl` for producing interactive plot windows."
   ]
  },
  {
   "cell_type": "markdown",
   "id": "34406c28",
   "metadata": {},
   "source": []
  }
 ],
 "metadata": {
  "kernelspec": {
   "display_name": "Python 3 (ipykernel)",
   "language": "python",
   "name": "python3"
  },
  "language_info": {
   "codemirror_mode": {
    "name": "ipython",
    "version": 3
   },
   "file_extension": ".py",
   "mimetype": "text/x-python",
   "name": "python",
   "nbconvert_exporter": "python",
   "pygments_lexer": "ipython3",
   "version": "3.11.9"
  }
 },
 "nbformat": 4,
 "nbformat_minor": 5
}
